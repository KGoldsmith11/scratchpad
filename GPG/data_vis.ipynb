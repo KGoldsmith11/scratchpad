{
 "cells": [
  {
   "cell_type": "markdown",
   "id": "43e51e75",
   "metadata": {},
   "source": [
    "##### Revision number:\n",
    "##### Revision date (date of export to html):\n",
    "---\n",
    "##### Project : Data Visuals\n",
    "##### Sub-project : \n",
    "##### Notebook title: Map the Gap\n",
    "##### Author: Kathleen Goldsmith\n",
    "##### Date:\n",
    "##### Project collaborators:\n",
    "##### Data: https://gender-pay-gap.service.gov.uk/viewing/download\n",
    "##### Git url:\n",
    "\n",
    "\n",
    "---\n",
    "\n",
    "## Goals of notebook\n",
    "* to create a map of gender pay gaps per company"
   ]
  },
  {
   "cell_type": "code",
   "execution_count": null,
   "id": "5c287156",
   "metadata": {},
   "outputs": [],
   "source": [
    "import os\n",
    "import pandas as pd\n",
    "import "
   ]
  },
  {
   "cell_type": "code",
   "execution_count": 1,
   "id": "8e4e5f1a",
   "metadata": {},
   "outputs": [],
   "source": [
    "data = \"/Users/kathleengoldsmith/CODE/ANALYSIS/scratchpad/GPG/UK Gender Pay Gap Data - 2021 to 2022.csv\""
   ]
  },
  {
   "cell_type": "code",
   "execution_count": null,
   "id": "f64325b8",
   "metadata": {},
   "outputs": [],
   "source": []
  }
 ],
 "metadata": {
  "kernelspec": {
   "display_name": "Python 3 (ipykernel)",
   "language": "python",
   "name": "python3"
  },
  "language_info": {
   "codemirror_mode": {
    "name": "ipython",
    "version": 3
   },
   "file_extension": ".py",
   "mimetype": "text/x-python",
   "name": "python",
   "nbconvert_exporter": "python",
   "pygments_lexer": "ipython3",
   "version": "3.9.7"
  }
 },
 "nbformat": 4,
 "nbformat_minor": 5
}
